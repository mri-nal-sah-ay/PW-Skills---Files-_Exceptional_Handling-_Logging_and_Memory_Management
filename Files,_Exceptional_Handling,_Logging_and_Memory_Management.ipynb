{
  "nbformat": 4,
  "nbformat_minor": 0,
  "metadata": {
    "colab": {
      "provenance": [],
      "gpuType": "V28"
    },
    "kernelspec": {
      "name": "python3",
      "display_name": "Python 3"
    },
    "language_info": {
      "name": "python"
    },
    "accelerator": "TPU"
  },
  "cells": [
    {
      "cell_type": "markdown",
      "source": [
        "# **Assignment Name - Files, Exceptional Handling, Logging and Memory Management - Mrinal Sahay**"
      ],
      "metadata": {
        "id": "br7XEqnz1DVB"
      }
    },
    {
      "cell_type": "markdown",
      "source": [
        "**Theorey Questions**"
      ],
      "metadata": {
        "id": "ewcBRE1B0_vq"
      }
    },
    {
      "cell_type": "markdown",
      "source": [
        "Q1. What is the difference between interpreted and compiled languages ?\n",
        "\n",
        "\n",
        "*   Compiled languages (like C) are translated into machine code all at once before running, making them faster but harder to change on the fly.\n",
        "* Interpreted languages (like Python) are executed line-by-line at runtime, making them slower but easier to test and modify.\n",
        "\n"
      ],
      "metadata": {
        "id": "v-WQxELlt91C"
      }
    },
    {
      "cell_type": "markdown",
      "source": [
        "Q2. What is exception handling in Python ?\n",
        "\n",
        "\n",
        "*   Exception handling is a way to manage errors in Python so your program doesn’t crash. You \"catch\" errors and decide what to do with them.\n",
        "\n"
      ],
      "metadata": {
        "id": "LForoqcVvCKO"
      }
    },
    {
      "cell_type": "markdown",
      "source": [
        "Q3. What is the purpose of the finally block in exception handling ?\n",
        "\n",
        "\n",
        "*   The finally block runs no matter what—whether an error happens or not. It’s used for cleanup tasks, like closing a file.\n",
        "\n"
      ],
      "metadata": {
        "id": "fqWKlyeqvLhN"
      }
    },
    {
      "cell_type": "markdown",
      "source": [
        "Q4. What is logging in Python ?\n",
        "\n",
        "\n",
        "*   Logging is a way to record what your program is doing (like errors or info) into a file or console, instead of just printing it.\n"
      ],
      "metadata": {
        "id": "RwKsoQfEvSyo"
      }
    },
    {
      "cell_type": "markdown",
      "source": [
        "Q5. What is the significance of the __del__ method in Python ?\n",
        "\n",
        "*   The __del__ method is a special function called when an object is about to be destroyed. It’s like a cleanup crew for objects"
      ],
      "metadata": {
        "id": "h3ZdfwdnvgL-"
      }
    },
    {
      "cell_type": "markdown",
      "source": [
        "Q6.  What is the difference between import and from ... import in Python ?\n",
        "\n",
        "*   import brings in an entire module (e.g., import math), and you use it like math.sqrt().\n",
        "* from ... import grabs just one thing from the module (e.g., from math import sqrt), so you can use sqrt() directly.\n",
        "\n"
      ],
      "metadata": {
        "id": "lg7X--Wdvw-c"
      }
    },
    {
      "cell_type": "markdown",
      "source": [
        "Q7. How can you handle multiple exceptions in Python ?\n",
        "\n",
        "*   Use multiple except blocks after a try block, each catching a different error type (e.g., except ValueError, except ZeroDivisionError)\n"
      ],
      "metadata": {
        "id": "22VEVm-Uv9_T"
      }
    },
    {
      "cell_type": "markdown",
      "source": [
        "Q8. What is the purpose of the with statement when handling files in Python ?\n",
        "\n",
        "*   The with statement automatically opens and closes files for you, so you don’t have to remember to close them manually.\n"
      ],
      "metadata": {
        "id": "FJj-RiW0wJv3"
      }
    },
    {
      "cell_type": "markdown",
      "source": [
        "Q9. What is the difference between multithreading and multiprocessing ?\n",
        "\n",
        "*   Multithreading runs multiple tasks within the same process, sharing memory (good for lightweight tasks).\n",
        "* Multiprocessing runs tasks in separate processes, each with its own memory (better for heavy tasks).\n",
        "\n"
      ],
      "metadata": {
        "id": "OX7bC06bwScd"
      }
    },
    {
      "cell_type": "markdown",
      "source": [
        "Q10.  What are the advantages of using logging in a program ?\n",
        "\n",
        "\n",
        "*   It helps track errors, debug issues, and monitor what’s happening without cluttering the screen with prints. You can save logs for later too.\n",
        "\n"
      ],
      "metadata": {
        "id": "MeiOgUg9weO-"
      }
    },
    {
      "cell_type": "markdown",
      "source": [
        "Q11. What is memory management in Python ?\n",
        "\n",
        "*   Memory management is how Python handles allocating and freeing up memory for objects so your program runs efficiently.\n",
        "\n"
      ],
      "metadata": {
        "id": "4sFozXXawkv0"
      }
    },
    {
      "cell_type": "markdown",
      "source": [
        "Q12. What are the basic steps involved in exception handling in Python ?\n",
        "\n",
        "\n",
        "*   Use try to run risky code.\n",
        "* Use except to catch and handle errors.\n",
        "* Optionally, use else if no error occurs, and finally for cleanup.\n",
        "\n"
      ],
      "metadata": {
        "id": "5EvQelXzwr-4"
      }
    },
    {
      "cell_type": "markdown",
      "source": [
        "Q13. Why is memory management important in Python ?\n",
        "\n",
        "*   It prevents your program from using too much memory (memory leaks) and keeps it running smoothly.\n"
      ],
      "metadata": {
        "id": "FEecUVP7w4c5"
      }
    },
    {
      "cell_type": "markdown",
      "source": [
        "Q14.  What is the role of try and except in exception handling ?\n",
        "\n",
        "*   try is where you put code that might fail.\n",
        "* except catches the error if it happens and lets you handle it.\n",
        "\n"
      ],
      "metadata": {
        "id": "K5x3PHLIw_Ob"
      }
    },
    {
      "cell_type": "markdown",
      "source": [
        "Q15.  How does Python's garbage collection system work ?\n",
        "\n",
        "*   Python automatically cleans up objects that aren’t used anymore by tracking references to them. If an object has no references, it’s deleted.\n",
        "\n"
      ],
      "metadata": {
        "id": "UOvKBEtPxHtN"
      }
    },
    {
      "cell_type": "markdown",
      "source": [
        "Q16. What is the purpose of the else block in exception handling ?\n",
        "\n",
        "*   The else block runs only if no error occurs in the try block. It’s for code you want to run when everything works fine.\n",
        "\n"
      ],
      "metadata": {
        "id": "Sk3V-OCIxO1M"
      }
    },
    {
      "cell_type": "markdown",
      "source": [
        "Q17. What are the common logging levels in Python ?\n",
        "\n",
        "*   DEBUG (detailed info), INFO (general updates), WARNING (minor issues), ERROR (problems), CRITICAL (serious failures).\n",
        "\n"
      ],
      "metadata": {
        "id": "nvS5uUGKxXDD"
      }
    },
    {
      "cell_type": "markdown",
      "source": [
        "Q18. What is the difference between os.fork() and multiprocessing in Python ?\n",
        "\n",
        "*   os.fork() creates a copy of the current process (Unix-only, low-level).\n",
        "* multiprocessing is a higher-level Python module that manages multiple processes and works on all systems.\n",
        "\n"
      ],
      "metadata": {
        "id": "QuDTKxCVxmhi"
      }
    },
    {
      "cell_type": "markdown",
      "source": [
        "Q19.  What is the importance of closing a file in Python ?\n",
        "\n",
        "*   Closing a file frees up system resources and ensures all data is saved properly. If you don’t, you might lose data or hit limits.\n",
        "\n"
      ],
      "metadata": {
        "id": "rEY-FQxoxyet"
      }
    },
    {
      "cell_type": "markdown",
      "source": [
        "Q20. What is the difference between file.read() and file.readline() in Python ?\n",
        "\n",
        "*   file.read() reads the entire file at once.\n",
        "* file.readline() reads just one line at a time.\n",
        "\n"
      ],
      "metadata": {
        "id": "7XSTB00Fx45U"
      }
    },
    {
      "cell_type": "markdown",
      "source": [
        "Q21. What is the logging module in Python used for ?\n",
        "\n",
        "*   The logging module tracks events in your program (like errors or progress) and saves or shows them in an organized way.\n",
        "\n"
      ],
      "metadata": {
        "id": "XwlrJotJyCiI"
      }
    },
    {
      "cell_type": "markdown",
      "source": [
        "Q22. What is the os module in Python used for in file handling ?\n",
        "\n",
        "*   The os module helps with file tasks like deleting, renaming, or checking if a file exists\n",
        "\n"
      ],
      "metadata": {
        "id": "4DtwXoplyJeY"
      }
    },
    {
      "cell_type": "markdown",
      "source": [
        "Q23. What are the challenges associated with memory management in Python ?\n",
        "\n",
        "*   It’s hard to control memory manually, and circular references (objects pointing to each other) can confuse the garbage collector, causing leaks.\n",
        "\n"
      ],
      "metadata": {
        "id": "Ie5mk0UuyPr2"
      }
    },
    {
      "cell_type": "markdown",
      "source": [
        "Q24.  How do you raise an exception manually in Python ?\n",
        "\n",
        "*   Use the raise keyword, like raise ValueError(\"Something went wrong\"), to trigger an error on purpose.\n",
        "\n"
      ],
      "metadata": {
        "id": "83WqRh_ryaFa"
      }
    },
    {
      "cell_type": "markdown",
      "source": [
        "Q25. Why is it important to use multithreading in certain applications ?\n",
        "\n",
        "*   Multithreading speeds up apps that wait a lot (like downloading files) by running tasks at the same time, improving responsiveness.\n"
      ],
      "metadata": {
        "id": "d9SuwIu1ygaT"
      }
    },
    {
      "cell_type": "markdown",
      "source": [
        "**Practical Questions**"
      ],
      "metadata": {
        "id": "7fjcQtEeF4K-"
      }
    },
    {
      "cell_type": "markdown",
      "source": [
        "Q1. How can you open a file for writing in Python and write a string to it ?"
      ],
      "metadata": {
        "id": "f-VYLakFh6l7"
      }
    },
    {
      "cell_type": "code",
      "source": [
        "with open('file.txt', 'w') as file:\n",
        "    file.write(\"Hello, this is a test file!\")"
      ],
      "metadata": {
        "id": "11E7yYwciA1R"
      },
      "execution_count": null,
      "outputs": []
    },
    {
      "cell_type": "code",
      "source": [
        "!ls #To check weather file has been created or not"
      ],
      "metadata": {
        "colab": {
          "base_uri": "https://localhost:8080/"
        },
        "id": "Ma3tToNQilMG",
        "outputId": "7a0d683b-e37b-407c-f9a1-5ae951dbd18e"
      },
      "execution_count": null,
      "outputs": [
        {
          "output_type": "stream",
          "name": "stdout",
          "text": [
            "file.txt  sample_data\n"
          ]
        }
      ]
    },
    {
      "cell_type": "code",
      "source": [
        "!cat file.txt #Display what is written inside the file"
      ],
      "metadata": {
        "colab": {
          "base_uri": "https://localhost:8080/"
        },
        "id": "BwEzHpmSixjl",
        "outputId": "2aa83063-2877-49ff-e222-405eb76906c8"
      },
      "execution_count": null,
      "outputs": [
        {
          "output_type": "stream",
          "name": "stdout",
          "text": [
            "Hello, this is a test file!"
          ]
        }
      ]
    },
    {
      "cell_type": "markdown",
      "source": [
        "Q2. Write a Python program to read the contents of a file and print each line ?"
      ],
      "metadata": {
        "id": "360BRZe0i6tv"
      }
    },
    {
      "cell_type": "code",
      "source": [
        "with open('file.txt', 'r') as file:\n",
        "    for line in file:\n",
        "        print(line.strip())"
      ],
      "metadata": {
        "colab": {
          "base_uri": "https://localhost:8080/"
        },
        "id": "ZRaK2kTSi-wD",
        "outputId": "507bb7cf-75eb-46b3-f4c9-7d44a04a9ded"
      },
      "execution_count": null,
      "outputs": [
        {
          "output_type": "stream",
          "name": "stdout",
          "text": [
            "Hello, this is a test file!\n"
          ]
        }
      ]
    },
    {
      "cell_type": "markdown",
      "source": [
        "Q3. How would you handle a case where the file doesn't exist while trying to open it for reading ?"
      ],
      "metadata": {
        "id": "GS8pwm8-jU_9"
      }
    },
    {
      "cell_type": "code",
      "source": [
        "try:\n",
        "    with open('non_existent_file.txt', 'r') as file:\n",
        "        content = file.read()\n",
        "except FileNotFoundError:\n",
        "    print(\"File not found!\")\n",
        "\n",
        "'''In the above code the code is trying to find a file named with 'non_existent_file.txt' ,\n",
        "if the file is found then it will return the content present inside the file otherwise\n",
        "it will return file not found'''"
      ],
      "metadata": {
        "colab": {
          "base_uri": "https://localhost:8080/"
        },
        "id": "e9hSSa0YjW3M",
        "outputId": "014c4401-b05e-456e-dc23-9b7c619ac557"
      },
      "execution_count": null,
      "outputs": [
        {
          "output_type": "stream",
          "name": "stdout",
          "text": [
            "File not found!\n"
          ]
        }
      ]
    },
    {
      "cell_type": "markdown",
      "source": [
        "Q4. Write a Python script that reads from one file and writes its content to another file ?"
      ],
      "metadata": {
        "id": "ZMH066SLkH76"
      }
    },
    {
      "cell_type": "code",
      "source": [
        "with open('file.txt', 'r') as source_file:\n",
        "    with open('copy.txt', 'w') as target_file:\n",
        "        for line in source_file:\n",
        "            target_file.write(line)"
      ],
      "metadata": {
        "id": "shX0d_QIkM5B"
      },
      "execution_count": null,
      "outputs": []
    },
    {
      "cell_type": "code",
      "source": [
        "!ls"
      ],
      "metadata": {
        "colab": {
          "base_uri": "https://localhost:8080/"
        },
        "id": "lsl7tPETkSSA",
        "outputId": "223a0462-6984-4ca6-c990-6ba78893d681"
      },
      "execution_count": null,
      "outputs": [
        {
          "output_type": "stream",
          "name": "stdout",
          "text": [
            "copy.txt  file.txt  sample_data\n"
          ]
        }
      ]
    },
    {
      "cell_type": "code",
      "source": [
        "!cat copy.txt #Displaying the content present in the second file which is copied from the Original file"
      ],
      "metadata": {
        "colab": {
          "base_uri": "https://localhost:8080/"
        },
        "id": "KXK_BLOZkTFZ",
        "outputId": "9e5a587b-1f94-4539-a946-f6ff05f0c713"
      },
      "execution_count": null,
      "outputs": [
        {
          "output_type": "stream",
          "name": "stdout",
          "text": [
            "Hello, this is a test file!"
          ]
        }
      ]
    },
    {
      "cell_type": "markdown",
      "source": [
        "Q5. How would you catch and handle division by zero error in Python ?"
      ],
      "metadata": {
        "id": "tSVa65Skke7-"
      }
    },
    {
      "cell_type": "code",
      "source": [
        "try:\n",
        "    result = 10 / 0\n",
        "except ZeroDivisionError:\n",
        "    print(\"Cannot divide by zero!\")"
      ],
      "metadata": {
        "colab": {
          "base_uri": "https://localhost:8080/"
        },
        "id": "ZXHUL1hnkiG4",
        "outputId": "2cc53b23-5864-4daa-e819-485856781a61"
      },
      "execution_count": null,
      "outputs": [
        {
          "output_type": "stream",
          "name": "stdout",
          "text": [
            "Cannot divide by zero!\n"
          ]
        }
      ]
    },
    {
      "cell_type": "markdown",
      "source": [
        "Q6. Write a Python program that logs an error message to a log file when a division by zero exception occurs ?"
      ],
      "metadata": {
        "id": "Fr-h5yTTkpn2"
      }
    },
    {
      "cell_type": "code",
      "source": [
        "import logging\n",
        "\n",
        "# Configure logging\n",
        "logging.basicConfig(filename='error.log', level=logging.ERROR)\n",
        "\n",
        "try:\n",
        "    result = 56 / 0\n",
        "except ZeroDivisionError as e:\n",
        "    logging.error(f\"Division by zero occurred: {str(e)}\")\n",
        "    print(\"Error logged to file\")"
      ],
      "metadata": {
        "colab": {
          "base_uri": "https://localhost:8080/"
        },
        "id": "ODSSdNLtkvmg",
        "outputId": "b4d66a73-d067-4c75-d450-a2307fcd53b6"
      },
      "execution_count": null,
      "outputs": [
        {
          "output_type": "stream",
          "name": "stderr",
          "text": [
            "ERROR:root:Division by zero occurred: division by zero\n"
          ]
        },
        {
          "output_type": "stream",
          "name": "stdout",
          "text": [
            "Error logged to file\n"
          ]
        }
      ]
    },
    {
      "cell_type": "markdown",
      "source": [
        "Q7. How do you log information at different levels (INFO, ERROR, WARNING) in Python using the logging module ?"
      ],
      "metadata": {
        "id": "Vm9NgUQYl1bz"
      }
    },
    {
      "cell_type": "code",
      "source": [
        "import logging\n",
        "\n",
        "logging.basicConfig(filename='app.log', level=logging.INFO)\n",
        "logging.info(\"This is an INFO message\")\n",
        "logging.warning(\"This is a WARNING message\")\n",
        "logging.error(\"This is an ERROR message\")\n",
        "print(\"Check app.log for logged messages\")"
      ],
      "metadata": {
        "colab": {
          "base_uri": "https://localhost:8080/"
        },
        "id": "j8xR-cDal5Hf",
        "outputId": "562028ee-b7bb-495c-e515-f3bef82cde7b"
      },
      "execution_count": null,
      "outputs": [
        {
          "output_type": "stream",
          "name": "stderr",
          "text": [
            "WARNING:root:This is a WARNING message\n",
            "ERROR:root:This is an ERROR message\n"
          ]
        },
        {
          "output_type": "stream",
          "name": "stdout",
          "text": [
            "Check app.log for logged messages\n"
          ]
        }
      ]
    },
    {
      "cell_type": "markdown",
      "source": [
        "Q8. Write a program to handle a file opening error using exception handling ?"
      ],
      "metadata": {
        "id": "COh9jYgml-gx"
      }
    },
    {
      "cell_type": "code",
      "source": [
        "try:\n",
        "    with open('nonexistent.txt', 'r') as file:\n",
        "        content = file.read()\n",
        "except FileNotFoundError:\n",
        "    print(\"Error: File not found!\")\n",
        "except IOError:\n",
        "    print(\"Error: IO error occurred!\")"
      ],
      "metadata": {
        "colab": {
          "base_uri": "https://localhost:8080/"
        },
        "id": "Je2n_IWGmBsR",
        "outputId": "d7f7f2a8-4f76-4c5d-bc9a-9964629ed5d6"
      },
      "execution_count": null,
      "outputs": [
        {
          "output_type": "stream",
          "name": "stdout",
          "text": [
            "Error: File not found!\n"
          ]
        }
      ]
    },
    {
      "cell_type": "markdown",
      "source": [
        "Q9.  How can you read a file line by line and store its content in a list in Python ?"
      ],
      "metadata": {
        "id": "QofOVj1smFM-"
      }
    },
    {
      "cell_type": "code",
      "source": [
        "try:\n",
        "    with open('copy.txt', 'r') as file:\n",
        "        lines = [line.strip() for line in file]\n",
        "    print(lines)\n",
        "except FileNotFoundError:\n",
        "    print(\"File not found!\")"
      ],
      "metadata": {
        "colab": {
          "base_uri": "https://localhost:8080/"
        },
        "id": "KlhG-28PmIo6",
        "outputId": "44e2ff04-38ba-4fda-95ee-3259a34fe833"
      },
      "execution_count": null,
      "outputs": [
        {
          "output_type": "stream",
          "name": "stdout",
          "text": [
            "['Hello, this is a test file!']\n"
          ]
        }
      ]
    },
    {
      "cell_type": "markdown",
      "source": [
        "Q10. How can you append data to an existing file in Python ?"
      ],
      "metadata": {
        "id": "eWg2STlXmPeF"
      }
    },
    {
      "cell_type": "code",
      "source": [
        "with open('copy.txt', 'a') as file:\n",
        "    file.write(\"\\nThis is appended text\")\n",
        "print(\"Text appended successfully\")"
      ],
      "metadata": {
        "colab": {
          "base_uri": "https://localhost:8080/"
        },
        "id": "PKROWqINmX0o",
        "outputId": "c3b45bcb-65eb-4672-ae73-499df8b2cf43"
      },
      "execution_count": null,
      "outputs": [
        {
          "output_type": "stream",
          "name": "stdout",
          "text": [
            "Text appended successfully\n"
          ]
        }
      ]
    },
    {
      "cell_type": "code",
      "source": [
        "!cat copy.txt"
      ],
      "metadata": {
        "colab": {
          "base_uri": "https://localhost:8080/"
        },
        "id": "U2g45Hq5mgDT",
        "outputId": "2fd4ec39-86f9-4231-ca3f-db1b24fb01a0"
      },
      "execution_count": null,
      "outputs": [
        {
          "output_type": "stream",
          "name": "stdout",
          "text": [
            "Hello, this is a test file!This is appended text\n",
            "\n",
            "This is appended text\n",
            "\n",
            "This is appended text"
          ]
        }
      ]
    },
    {
      "cell_type": "markdown",
      "source": [
        "Q11. Write a Python program that uses a try-except block to handle an error when attempting to access a\n",
        "dictionary key that doesn't exist ?"
      ],
      "metadata": {
        "id": "-rh62pGLmwIT"
      }
    },
    {
      "cell_type": "code",
      "source": [
        "my_dict = {\"a\": 1, \"b\": 2}\n",
        "try:\n",
        "    value = my_dict[\"c\"]\n",
        "except KeyError:\n",
        "    print(\"Error: Key not found in dictionary!\")"
      ],
      "metadata": {
        "colab": {
          "base_uri": "https://localhost:8080/"
        },
        "id": "YjZV6pu7m0Ve",
        "outputId": "655289b6-dbbc-4ac0-d910-72f75b399c94"
      },
      "execution_count": null,
      "outputs": [
        {
          "output_type": "stream",
          "name": "stdout",
          "text": [
            "Error: Key not found in dictionary!\n"
          ]
        }
      ]
    },
    {
      "cell_type": "markdown",
      "source": [
        "Q12. Write a program that demonstrates using multiple except blocks to handle different types of exceptions ?"
      ],
      "metadata": {
        "id": "-eh8Ahmum5Iu"
      }
    },
    {
      "cell_type": "code",
      "source": [
        "try:\n",
        "    my_list = [1, 2, 3]\n",
        "    my_dict = {\"a\": 1}\n",
        "    result = my_list[5] / my_dict[\"b\"]\n",
        "except IndexError:\n",
        "    print(\"Error: List index out of range!\")\n",
        "except KeyError:\n",
        "    print(\"Error: Dictionary key not found!\")\n",
        "except ZeroDivisionError:\n",
        "    print(\"Error: Division by zero!\")"
      ],
      "metadata": {
        "colab": {
          "base_uri": "https://localhost:8080/"
        },
        "id": "3uncLQlpm85N",
        "outputId": "1eddb5b3-6b19-403a-8751-283fa3f810d1"
      },
      "execution_count": null,
      "outputs": [
        {
          "output_type": "stream",
          "name": "stdout",
          "text": [
            "Error: List index out of range!\n"
          ]
        }
      ]
    },
    {
      "cell_type": "markdown",
      "source": [
        "Q13.  How would you check if a file exists before attempting to read it in Python ?"
      ],
      "metadata": {
        "id": "ehbVGWkTnBOe"
      }
    },
    {
      "cell_type": "code",
      "source": [
        "import os\n",
        "\n",
        "filename = 'output.txt'\n",
        "if os.path.exists(filename):\n",
        "    print(\"File exists!\")\n",
        "else:\n",
        "    print(\"File does not exist!\")"
      ],
      "metadata": {
        "colab": {
          "base_uri": "https://localhost:8080/"
        },
        "id": "iYOxtoiZnEnh",
        "outputId": "b3215332-58b1-4cdc-89f7-a3fbf8be52e7"
      },
      "execution_count": null,
      "outputs": [
        {
          "output_type": "stream",
          "name": "stdout",
          "text": [
            "File does not exist!\n"
          ]
        }
      ]
    },
    {
      "cell_type": "markdown",
      "source": [
        "Q14. Write a program that uses the logging module to log both informational and error messages ?"
      ],
      "metadata": {
        "id": "bzFt2bemnHOf"
      }
    },
    {
      "cell_type": "code",
      "source": [
        "import logging\n",
        "\n",
        "logging.basicConfig(filename='app.log', level=logging.INFO)\n",
        "logging.info(\"Program started\")\n",
        "try:\n",
        "    result = 10 / 0\n",
        "except ZeroDivisionError as e:\n",
        "    logging.error(f\"Error occurred: {str(e)}\")\n",
        "print(\"Check app.log for logs\")"
      ],
      "metadata": {
        "colab": {
          "base_uri": "https://localhost:8080/"
        },
        "id": "GS-ZkxtinLQT",
        "outputId": "f7b9a0d5-16db-407b-f418-d82912281d41"
      },
      "execution_count": null,
      "outputs": [
        {
          "output_type": "stream",
          "name": "stderr",
          "text": [
            "ERROR:root:Error occurred: division by zero\n"
          ]
        },
        {
          "output_type": "stream",
          "name": "stdout",
          "text": [
            "Check app.log for logs\n"
          ]
        }
      ]
    },
    {
      "cell_type": "markdown",
      "source": [
        "Q15. Write a Python program that prints the content of a file and handles the case when the file is empty ?"
      ],
      "metadata": {
        "id": "0nFfii5WnOwh"
      }
    },
    {
      "cell_type": "code",
      "source": [
        "try:\n",
        "    with open('copy.txt', 'r') as file:\n",
        "        content = file.read()\n",
        "        if content:\n",
        "            print(content)\n",
        "        else:\n",
        "            print(\"File is empty!\")\n",
        "except FileNotFoundError:\n",
        "    print(\"File not found!\")"
      ],
      "metadata": {
        "colab": {
          "base_uri": "https://localhost:8080/"
        },
        "id": "3TBONSKgnR9_",
        "outputId": "45727115-ea2b-408a-c801-f8fb70e61e0f"
      },
      "execution_count": null,
      "outputs": [
        {
          "output_type": "stream",
          "name": "stdout",
          "text": [
            "Hello, this is a test file!This is appended text\n",
            "\n",
            "This is appended text\n",
            "\n",
            "This is appended text\n"
          ]
        }
      ]
    },
    {
      "cell_type": "markdown",
      "source": [
        "Q16. Demonstrate how to use memory profiling to check the memory usage of a small program ?"
      ],
      "metadata": {
        "id": "v5Ugsv_GnaPC"
      }
    },
    {
      "cell_type": "code",
      "source": [
        "# Install memory_profiler if not already installed\n",
        "!pip install memory_profiler\n",
        "\n",
        "# Write the code to a temporary file\n",
        "code = \"\"\"\n",
        "from memory_profiler import profile\n",
        "\n",
        "@profile\n",
        "def my_function():\n",
        "    my_list = [i for i in range(1000)]\n",
        "    return sum(my_list)\n",
        "\n",
        "if __name__ == '__main__':\n",
        "    result = my_function()\n",
        "    print(f\"Result: {result}\")\n",
        "\"\"\"\n",
        "\n",
        "# Save the code to a file\n",
        "with open('memory_test.py', 'w') as f:\n",
        "    f.write(code)\n",
        "\n",
        "# Run the memory profiler\n",
        "%load_ext memory_profiler\n",
        "from memory_profiler import profile\n",
        "!python -m memory_profiler memory_test.py"
      ],
      "metadata": {
        "colab": {
          "base_uri": "https://localhost:8080/"
        },
        "id": "QReIKTmqnev6",
        "outputId": "b059a214-d123-400d-d1cf-5dcac60086a9"
      },
      "execution_count": null,
      "outputs": [
        {
          "output_type": "stream",
          "name": "stdout",
          "text": [
            "Requirement already satisfied: memory_profiler in /usr/local/lib/python3.11/dist-packages (0.61.0)\n",
            "Requirement already satisfied: psutil in /usr/local/lib/python3.11/dist-packages (from memory_profiler) (5.9.5)\n",
            "Filename: memory_test.py\n",
            "\n",
            "Line #    Mem usage    Increment  Occurrences   Line Contents\n",
            "=============================================================\n",
            "     4     41.2 MiB     41.2 MiB           1   @profile\n",
            "     5                                         def my_function():\n",
            "     6     41.2 MiB      0.0 MiB        1003       my_list = [i for i in range(1000)]\n",
            "     7     41.2 MiB      0.0 MiB           1       return sum(my_list)\n",
            "\n",
            "\n",
            "Result: 499500\n"
          ]
        }
      ]
    },
    {
      "cell_type": "markdown",
      "source": [
        "Q17. Write a Python program to create and write a list of numbers to a file, one number per line ?"
      ],
      "metadata": {
        "id": "imbuHJsRn3Wn"
      }
    },
    {
      "cell_type": "code",
      "source": [
        "numbers = [1, 2, 3, 4, 5]\n",
        "with open('numbers.txt', 'w') as file:\n",
        "    for num in numbers:\n",
        "        file.write(f\"{num}\\n\")\n",
        "print(\"Numbers written to file\")"
      ],
      "metadata": {
        "colab": {
          "base_uri": "https://localhost:8080/"
        },
        "id": "ABKO04kYn7Bk",
        "outputId": "e04f6775-e1ab-4016-96f9-e2e6844ab18f"
      },
      "execution_count": null,
      "outputs": [
        {
          "output_type": "stream",
          "name": "stdout",
          "text": [
            "Numbers written to file\n"
          ]
        }
      ]
    },
    {
      "cell_type": "code",
      "source": [
        "!cat numbers.txt"
      ],
      "metadata": {
        "colab": {
          "base_uri": "https://localhost:8080/"
        },
        "id": "Jfqu4jUyoABc",
        "outputId": "2c3d7d4b-ba6d-4b4d-827f-15c25cb50e96"
      },
      "execution_count": null,
      "outputs": [
        {
          "output_type": "stream",
          "name": "stdout",
          "text": [
            "1\n",
            "2\n",
            "3\n",
            "4\n",
            "5\n"
          ]
        }
      ]
    },
    {
      "cell_type": "markdown",
      "source": [
        "Q18.  How would you implement a basic logging setup that logs to a file with rotation after 1MB ?"
      ],
      "metadata": {
        "id": "3hTg4AUaoCVx"
      }
    },
    {
      "cell_type": "code",
      "source": [
        "import logging\n",
        "from logging.handlers import RotatingFileHandler\n",
        "\n",
        "file_handler = RotatingFileHandler('app.log', maxBytes=1048576, backupCount=5)\n",
        "\n",
        "console_handler = logging.StreamHandler()\n",
        "\n",
        "logging.basicConfig(handlers=[file_handler, console_handler], level=logging.INFO)\n",
        "\n",
        "logging.info(\"This is an info message\")\n",
        "logging.warning(\"This is a warning message\")\n",
        "logging.error(\"This is an error message\")"
      ],
      "metadata": {
        "colab": {
          "base_uri": "https://localhost:8080/"
        },
        "id": "JeG6FobtoFOl",
        "outputId": "3d913728-3921-4fbe-b916-9011219857b6"
      },
      "execution_count": null,
      "outputs": [
        {
          "output_type": "stream",
          "name": "stderr",
          "text": [
            "WARNING:root:This is a warning message\n",
            "ERROR:root:This is an error message\n"
          ]
        }
      ]
    },
    {
      "cell_type": "markdown",
      "source": [
        "Q19. Write a program that handles both IndexError and KeyError using a try-except block ?"
      ],
      "metadata": {
        "id": "KqrGW2RZsYLV"
      }
    },
    {
      "cell_type": "code",
      "source": [
        "try:\n",
        "    my_list = [1, 2]\n",
        "    my_dict = {\"a\": 1}\n",
        "    result = my_list[5] + my_dict[\"b\"]\n",
        "except IndexError:\n",
        "    print(\"Error: List index out of range!\")\n",
        "except KeyError:\n",
        "    print(\"Error: Dictionary key not found!\")"
      ],
      "metadata": {
        "colab": {
          "base_uri": "https://localhost:8080/"
        },
        "id": "SceZSMg7sbVk",
        "outputId": "98a93ade-5a18-4eec-d40a-246d0d7739bb"
      },
      "execution_count": null,
      "outputs": [
        {
          "output_type": "stream",
          "name": "stdout",
          "text": [
            "Error: List index out of range!\n"
          ]
        }
      ]
    },
    {
      "cell_type": "markdown",
      "source": [
        "Q20. How would you open a file and read its contents using a context manager in Python ?"
      ],
      "metadata": {
        "id": "Q9ksfDC4sj23"
      }
    },
    {
      "cell_type": "code",
      "source": [
        "try:\n",
        "    with open('copy.txt', 'r') as file:\n",
        "        content = file.read()\n",
        "        print(content)\n",
        "except FileNotFoundError:\n",
        "    print(\"File not found!\")"
      ],
      "metadata": {
        "colab": {
          "base_uri": "https://localhost:8080/"
        },
        "id": "WjP8CIRgsnd1",
        "outputId": "a3afd5e0-2a47-4c2d-8779-0e521e66f410"
      },
      "execution_count": null,
      "outputs": [
        {
          "output_type": "stream",
          "name": "stdout",
          "text": [
            "Hello, this is a test file!This is appended text\n",
            "\n",
            "This is appended text\n",
            "\n",
            "This is appended text\n"
          ]
        }
      ]
    },
    {
      "cell_type": "markdown",
      "source": [
        "Q21. Write a Python program that reads a file and prints the number of occurrences of a specific word ?"
      ],
      "metadata": {
        "id": "7vniUS8UssVa"
      }
    },
    {
      "cell_type": "code",
      "source": [
        "word_to_find = \"text\"\n",
        "try:\n",
        "    with open('copy.txt', 'r') as file:\n",
        "        content = file.read()\n",
        "        count = content.lower().count(word_to_find.lower())\n",
        "        print(f\"'{word_to_find}' appears {count} times\")\n",
        "except FileNotFoundError:\n",
        "    print(\"File not found!\")"
      ],
      "metadata": {
        "colab": {
          "base_uri": "https://localhost:8080/"
        },
        "id": "jdb0EPHpsv6r",
        "outputId": "474bfd6d-8035-4acc-e2ac-0e1f2ccb3dea"
      },
      "execution_count": null,
      "outputs": [
        {
          "output_type": "stream",
          "name": "stdout",
          "text": [
            "'text' appears 3 times\n"
          ]
        }
      ]
    },
    {
      "cell_type": "markdown",
      "source": [
        "Q22. How can you check if a file is empty before attempting to read its contents ?"
      ],
      "metadata": {
        "id": "lTJv0wIrs2FL"
      }
    },
    {
      "cell_type": "code",
      "source": [
        "import os\n",
        "filename = 'copy.txt'\n",
        "if os.path.exists(filename) and os.path.getsize(filename) == 0:\n",
        "    print(\"File is empty!\")\n",
        "elif not os.path.exists(filename):\n",
        "    print(\"File doesn't exist!\")\n",
        "else:\n",
        "    print(\"File has content!\")"
      ],
      "metadata": {
        "colab": {
          "base_uri": "https://localhost:8080/"
        },
        "id": "YTiac9zZs5TZ",
        "outputId": "5db8be99-a709-40ef-cd01-46acc5723575"
      },
      "execution_count": null,
      "outputs": [
        {
          "output_type": "stream",
          "name": "stdout",
          "text": [
            "File has content!\n"
          ]
        }
      ]
    },
    {
      "cell_type": "markdown",
      "source": [
        "Q23. Write a Python program that writes to a log file when an error occurs during file handling ?"
      ],
      "metadata": {
        "id": "Hwwa5APEs-oi"
      }
    },
    {
      "cell_type": "code",
      "source": [
        "import logging\n",
        "\n",
        "logging.basicConfig(filename='error.log', level=logging.ERROR)\n",
        "\n",
        "try:\n",
        "    with open('nonexistent.txt', 'r') as file:\n",
        "        content = file.read()\n",
        "except FileNotFoundError as e:\n",
        "    logging.error(f\"File error: {str(e)}\")\n",
        "    print(\"Error logged to file\")"
      ],
      "metadata": {
        "colab": {
          "base_uri": "https://localhost:8080/"
        },
        "id": "qGKFmU8-tBj1",
        "outputId": "7ca22e41-e460-4685-b160-45c5c711867b"
      },
      "execution_count": null,
      "outputs": [
        {
          "output_type": "stream",
          "name": "stderr",
          "text": [
            "ERROR:root:File error: [Errno 2] No such file or directory: 'nonexistent.txt'\n"
          ]
        },
        {
          "output_type": "stream",
          "name": "stdout",
          "text": [
            "Error logged to file\n"
          ]
        }
      ]
    }
  ]
}